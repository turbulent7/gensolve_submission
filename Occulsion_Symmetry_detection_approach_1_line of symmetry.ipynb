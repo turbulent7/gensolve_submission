{
  "nbformat": 4,
  "nbformat_minor": 0,
  "metadata": {
    "colab": {
      "provenance": [],
      "authorship_tag": "ABX9TyOKM/4mQPDGSUAusw4MpReO",
      "include_colab_link": true
    },
    "kernelspec": {
      "name": "python3",
      "display_name": "Python 3"
    },
    "language_info": {
      "name": "python"
    }
  },
  "cells": [
    {
      "cell_type": "markdown",
      "metadata": {
        "id": "view-in-github",
        "colab_type": "text"
      },
      "source": [
        "<a href=\"https://colab.research.google.com/github/ssmehra7/curvetopia-adobe_gensolve/blob/main/Symmetry_detection.ipynb\" target=\"_parent\"><img src=\"https://colab.research.google.com/assets/colab-badge.svg\" alt=\"Open In Colab\"/></a>"
      ]
    },
    {
      "cell_type": "code",
      "source": [
        "\"This algorithm takes .png file as input and peerforms symmetry detection on it and gives png file with line of symmetry as output \""
      ],
      "metadata": {
        "id": "8DirbgHc7wsE"
      },
      "execution_count": null,
      "outputs": []
    },
    {
      "cell_type": "code",
      "source": [
        "\"you can use the following residual code to conver polylines to png and svg formats and save it in the runtime\""
      ],
      "metadata": {
        "id": "OlE-J1aw7_rV"
      },
      "execution_count": null,
      "outputs": []
    },
    {
      "cell_type": "code",
      "source": [
        "!pip install svgwrite cairosvg pillow"
      ],
      "metadata": {
        "colab": {
          "base_uri": "https://localhost:8080/"
        },
        "id": "piXhNaMb9bV3",
        "outputId": "5559d930-6b99-4141-c33a-938c22f0360a"
      },
      "execution_count": null,
      "outputs": [
        {
          "output_type": "stream",
          "name": "stdout",
          "text": [
            "Collecting svgwrite\n",
            "  Downloading svgwrite-1.4.3-py3-none-any.whl.metadata (8.8 kB)\n",
            "Collecting cairosvg\n",
            "  Downloading CairoSVG-2.7.1-py3-none-any.whl.metadata (2.7 kB)\n",
            "Requirement already satisfied: pillow in /usr/local/lib/python3.10/dist-packages (9.4.0)\n",
            "Collecting cairocffi (from cairosvg)\n",
            "  Downloading cairocffi-1.7.1-py3-none-any.whl.metadata (3.3 kB)\n",
            "Collecting cssselect2 (from cairosvg)\n",
            "  Downloading cssselect2-0.7.0-py3-none-any.whl.metadata (2.9 kB)\n",
            "Requirement already satisfied: defusedxml in /usr/local/lib/python3.10/dist-packages (from cairosvg) (0.7.1)\n",
            "Requirement already satisfied: tinycss2 in /usr/local/lib/python3.10/dist-packages (from cairosvg) (1.3.0)\n",
            "Requirement already satisfied: cffi>=1.1.0 in /usr/local/lib/python3.10/dist-packages (from cairocffi->cairosvg) (1.17.0)\n",
            "Requirement already satisfied: webencodings in /usr/local/lib/python3.10/dist-packages (from cssselect2->cairosvg) (0.5.1)\n",
            "Requirement already satisfied: pycparser in /usr/local/lib/python3.10/dist-packages (from cffi>=1.1.0->cairocffi->cairosvg) (2.22)\n",
            "Downloading svgwrite-1.4.3-py3-none-any.whl (67 kB)\n",
            "\u001b[2K   \u001b[90m━━━━━━━━━━━━━━━━━━━━━━━━━━━━━━━━━━━━━━━━\u001b[0m \u001b[32m67.1/67.1 kB\u001b[0m \u001b[31m1.9 MB/s\u001b[0m eta \u001b[36m0:00:00\u001b[0m\n",
            "\u001b[?25hDownloading CairoSVG-2.7.1-py3-none-any.whl (43 kB)\n",
            "\u001b[2K   \u001b[90m━━━━━━━━━━━━━━━━━━━━━━━━━━━━━━━━━━━━━━━━\u001b[0m \u001b[32m43.2/43.2 kB\u001b[0m \u001b[31m2.5 MB/s\u001b[0m eta \u001b[36m0:00:00\u001b[0m\n",
            "\u001b[?25hDownloading cairocffi-1.7.1-py3-none-any.whl (75 kB)\n",
            "\u001b[2K   \u001b[90m━━━━━━━━━━━━━━━━━━━━━━━━━━━━━━━━━━━━━━━━\u001b[0m \u001b[32m75.6/75.6 kB\u001b[0m \u001b[31m5.0 MB/s\u001b[0m eta \u001b[36m0:00:00\u001b[0m\n",
            "\u001b[?25hDownloading cssselect2-0.7.0-py3-none-any.whl (15 kB)\n",
            "Installing collected packages: svgwrite, cssselect2, cairocffi, cairosvg\n",
            "Successfully installed cairocffi-1.7.1 cairosvg-2.7.1 cssselect2-0.7.0 svgwrite-1.4.3\n"
          ]
        }
      ]
    },
    {
      "cell_type": "code",
      "source": [
        "import numpy as np\n",
        "import svgwrite\n",
        "import cairosvg\n",
        "from PIL import Image\n",
        "\n",
        "# Define the colors used for the polylines\n",
        "colours = ['#000000']  # Adjust this as needed, currently set to black for grayscale\n",
        "\n",
        "def polylines2svg(paths_XYs, svg_path):\n",
        "    W, H = 0, 0\n",
        "    for path_XYs in paths_XYs:\n",
        "        for XY in path_XYs:\n",
        "            W, H = max(W, np.max(XY[:, 0])), max(H, np.max(XY[:, 1]))\n",
        "    padding = 0.1\n",
        "    W, H = int(W + padding * W), int(H + padding * H)\n",
        "\n",
        "    # Create a new SVG drawing with specified size\n",
        "    dwg = svgwrite.Drawing(svg_path, profile='tiny', size=(W, H), shape_rendering='crispEdges')\n",
        "    group = dwg.g()\n",
        "\n",
        "    for i, path in enumerate(paths_XYs):\n",
        "        path_data = []\n",
        "        c = colours[i % len(colours)]\n",
        "        for XY in path:\n",
        "            path_data.append((\"M\", (XY[0, 0], XY[0, 1])))\n",
        "            for j in range(1, len(XY)):\n",
        "                path_data.append((\"L\", (XY[j, 0], XY[j, 1])))\n",
        "        group.add(dwg.path(d=path_data, fill='none', stroke=c, stroke_width=2))\n",
        "\n",
        "    dwg.add(group)\n",
        "    dwg.save()\n",
        "\n",
        "    png_path = svg_path.replace('.svg', '.png')\n",
        "    fact = max(1, 1024 // min(H, W))\n",
        "\n",
        "    # Convert the SVG to PNG\n",
        "    cairosvg.svg2png(url=svg_path, write_to=png_path, output_width=fact*W, output_height=fact*H, background_color='white')\n",
        "\n",
        "    # Convert the PNG to grayscale\n",
        "    img = Image.open(png_path).convert('L')\n",
        "    img.save(png_path)\n",
        "    return png_path\n",
        "\n",
        "def read_csv(csv_path):\n",
        "    np_path_XYs = np.genfromtxt(csv_path, delimiter=',')\n",
        "    path_XYs = []\n",
        "\n",
        "    for i in np.unique(np_path_XYs[:, 0]):\n",
        "        npXYs = np_path_XYs[np_path_XYs[:, 0] == i][:, 1:]\n",
        "        XYs = []\n",
        "        for j in np.unique(npXYs[:, 0]):\n",
        "            XY = npXYs[npXYs[:, 0] == j][:, 1:]\n",
        "            XYs.append(XY)\n",
        "        path_XYs.append(XYs)\n",
        "\n",
        "    return path_XYs\n",
        "\n",
        "# Example usage\n",
        "csv_path = '/content/occlusion.csv'\n",
        "paths_XYs = read_csv(csv_path)\n",
        "svg_path = 'polylines.svg'\n",
        "png_path = polylines2svg(paths_XYs, svg_path)\n",
        "print(f\"Saved grayscale PNG to {png_path}\")\n"
      ],
      "metadata": {
        "colab": {
          "base_uri": "https://localhost:8080/"
        },
        "id": "U6Kz3Omw9ICB",
        "outputId": "fb5a9610-ed79-4f11-d671-5257dddc7a4a"
      },
      "execution_count": null,
      "outputs": [
        {
          "output_type": "stream",
          "name": "stdout",
          "text": [
            "Saved grayscale PNG to polylines.png\n"
          ]
        }
      ]
    },
    {
      "cell_type": "code",
      "source": [
        "import cv2\n",
        "import matplotlib.pyplot as plt\n",
        "import numpy as np\n",
        "\n",
        "# Define the required functions\n",
        "def very_close(pt1, pt2, threshold=5.0):\n",
        "    \"\"\"Returns True if the two points are within a certain threshold distance.\"\"\"\n",
        "    return np.linalg.norm(np.array(pt1) - np.array(pt2)) < threshold\n",
        "\n",
        "def angle_with_x_axis(pt1, pt2):\n",
        "    \"\"\"Calculates the angle of the line connecting pt1 and pt2 with the x-axis.\"\"\"\n",
        "    dx = pt2[0] - pt1[0]\n",
        "    dy = pt2[1] - pt1[1]\n",
        "    return np.arctan2(dy, dx)\n",
        "\n",
        "def midpoint(pt1, pt2):\n",
        "    \"\"\"Calculates the midpoint between two points.\"\"\"\n",
        "    return ( (pt1[0] + pt2[0]) / 2, (pt1[1] + pt2[1]) / 2 )\n",
        "\n",
        "def reisfeld(angle1, angle2, theta):\n",
        "    \"\"\"Computes the Reisfeld measure for symmetry.\"\"\"\n",
        "    return 1 - np.cos(2 * (angle1 - angle2 - theta))\n",
        "\n",
        "def S(size1, size2):\n",
        "    \"\"\"Computes the scale factor for symmetry detection.\"\"\"\n",
        "    return min(size1, size2) / max(size1, size2)\n",
        "\n",
        "def superm2(image):\n",
        "    \"\"\"Performs the symmetry detection on image and plots the hexbin plot.\"\"\"\n",
        "    mimage = np.fliplr(image)\n",
        "    kp1, des1 = sift.detectAndCompute(image, None)\n",
        "    kp2, des2 = sift.detectAndCompute(mimage, None)\n",
        "    for p, mp in zip(kp1, kp2):\n",
        "        p.angle = np.deg2rad(p.angle)\n",
        "        mp.angle = np.deg2rad(mp.angle)\n",
        "    bf = cv2.BFMatcher()\n",
        "    matches = bf.knnMatch(des1, des2, k=2)\n",
        "    houghr = []\n",
        "    houghth = []\n",
        "    weights = []\n",
        "    good = []\n",
        "\n",
        "    for match, match2 in matches:\n",
        "        point = kp1[match.queryIdx]\n",
        "        mirpoint = kp2[match.trainIdx]\n",
        "        mirpoint2 = kp2[match2.trainIdx]\n",
        "        mirpoint2.angle = np.pi - mirpoint2.angle\n",
        "        mirpoint.angle = np.pi - mirpoint.angle\n",
        "        if mirpoint.angle < 0.0:\n",
        "            mirpoint.angle += 2 * np.pi\n",
        "        if mirpoint2.angle < 0.0:\n",
        "            mirpoint2.angle += 2 * np.pi\n",
        "        mirpoint.pt = (mimage.shape[1] - mirpoint.pt[0], mirpoint.pt[1])\n",
        "        if very_close(point.pt, mirpoint.pt):\n",
        "            mirpoint = mirpoint2\n",
        "            good.append(match2)\n",
        "        else:\n",
        "            good.append(match)\n",
        "        theta = angle_with_x_axis(point.pt, mirpoint.pt)\n",
        "        xc, yc = midpoint(point.pt, mirpoint.pt)\n",
        "        r = xc * np.cos(theta) + yc * np.sin(theta)\n",
        "        Mij = reisfeld(point.angle, mirpoint.angle, theta) * S(\n",
        "            point.size, mirpoint.size\n",
        "        )\n",
        "        houghr.append(r)\n",
        "        houghth.append(theta)\n",
        "        weights.append(Mij)\n",
        "\n",
        "    houghr = np.array(houghr)\n",
        "    houghth = np.array(houghth)\n",
        "    weights = np.array(weights)\n",
        "\n",
        "    # Plotting the hexbin plot with interactivity\n",
        "    def hex_plot():\n",
        "        fig, ax = plt.subplots(figsize=(10, 7))\n",
        "        hb = ax.hexbin(houghr, houghth, gridsize=50, cmap='Reds', mincnt=1)\n",
        "        plt.title('Hexbin Plot of Symmetry Detection')\n",
        "        plt.xlabel('r (Distance)')\n",
        "        plt.ylabel('theta (Angle)')\n",
        "        cb = plt.colorbar(hb, ax=ax, label='Number of Votes')\n",
        "\n",
        "        # Find the hexbins with the highest density (darkest color)\n",
        "        max_counts_idx = np.argmax(hb.get_array())\n",
        "        r_val = hb.get_offsets()[max_counts_idx][0]\n",
        "        theta_val = hb.get_offsets()[max_counts_idx][1]\n",
        "\n",
        "        print(f\"Maximum density at r: {r_val:.2f}, theta: {theta_val:.2f} radians\")\n",
        "\n",
        "        plt.show()\n",
        "\n",
        "    hex_plot()\n",
        "\n",
        "# Example usage\n",
        "if __name__ == \"__main__\":\n",
        "    image = cv2.imread('/content/polylines.png', 0)  # Replace with your image path\n",
        "    sift = cv2.SIFT_create()  # Initialize SIFT detector\n",
        "    superm2(image)\n"
      ],
      "metadata": {
        "colab": {
          "base_uri": "https://localhost:8080/",
          "height": 659
        },
        "id": "oHjlu-h42kko",
        "outputId": "1b19b973-7258-47f5-a3db-bd566a54feb9"
      },
      "execution_count": null,
      "outputs": [
        {
          "output_type": "stream",
          "name": "stdout",
          "text": [
            "Maximum density at r: 403.85, theta: -0.34 radians\n"
          ]
        },
        {
          "output_type": "display_data",
          "data": {
            "text/plain": [
              "<Figure size 1000x700 with 2 Axes>"
            ],
            "image/png": "[encoded data removed]"
          },
          "metadata": {}
        }
      ]
    },
    {
      "cell_type": "code",
      "source": [
        "\"plot the above hex plot for different png files and accordingly use the values of r and theta in further example\""
      ],
      "metadata": {
        "id": "nO6MfgLX6MvG"
      },
      "execution_count": null,
      "outputs": []
    },
    {
      "cell_type": "code",
      "source": [
        "import sys\n",
        "\n",
        "import cv2\n",
        "import matplotlib.pyplot as plt\n",
        "import numpy as np\n",
        "\n",
        "sift = cv2.SIFT_create()\n",
        "\n",
        "\n",
        "def very_close(a, b, tol=4.0):\n",
        "    \"\"\"Checks if the points a, b are within\n",
        "    tol distance of each other.\"\"\"\n",
        "    return np.sqrt((a[0] - b[0]) ** 2 + (a[1] - b[1]) ** 2) < tol\n",
        "\n",
        "\n",
        "def S(si, sj, sigma=1):\n",
        "    \"\"\"Computes the 'S' function mentioned in\n",
        "    the research paper.\"\"\"\n",
        "    q = (-abs(si - sj)) / (sigma * (si + sj))\n",
        "    return np.exp(q ** 2)\n",
        "\n",
        "\n",
        "def reisfeld(phi, phj, theta):\n",
        "    return 1 - np.cos(phi + phj - 2 * theta)\n",
        "\n",
        "\n",
        "def midpoint(i, j):\n",
        "    return (i[0] + j[0]) / 2, (i[1] + j[1]) / 2\n",
        "\n",
        "\n",
        "def angle_with_x_axis(i, j):\n",
        "    x, y = i[0] - j[0], i[1] - j[1]\n",
        "    if x == 0:\n",
        "        return np.pi / 2\n",
        "    angle = np.arctan(y / x)\n",
        "    if angle < 0:\n",
        "        angle += np.pi\n",
        "    return angle\n",
        "\n",
        "\n",
        "def superm2(image):\n",
        "    \"\"\"Performs the symmetry detection on image.\"\"\"\n",
        "    mimage = np.fliplr(image)\n",
        "    kp1, des1 = sift.detectAndCompute(image, None)\n",
        "    kp2, des2 = sift.detectAndCompute(mimage, None)\n",
        "    for p, mp in zip(kp1, kp2):\n",
        "        p.angle = np.deg2rad(p.angle)\n",
        "        mp.angle = np.deg2rad(mp.angle)\n",
        "    bf = cv2.BFMatcher()\n",
        "    matches = bf.knnMatch(des1, des2, k=2)\n",
        "    houghr = np.zeros(len(matches))\n",
        "    houghth = np.zeros(len(matches))\n",
        "    weights = np.zeros(len(matches))\n",
        "    i = 0\n",
        "    good = []\n",
        "    for match, match2 in matches:\n",
        "        point = kp1[match.queryIdx]\n",
        "        mirpoint = kp2[match.trainIdx]\n",
        "        mirpoint2 = kp2[match2.trainIdx]\n",
        "        mirpoint2.angle = np.pi - mirpoint2.angle\n",
        "        mirpoint.angle = np.pi - mirpoint.angle\n",
        "        if mirpoint.angle < 0.0:\n",
        "            mirpoint.angle += 2 * np.pi\n",
        "        if mirpoint2.angle < 0.0:\n",
        "            mirpoint2.angle += 2 * np.pi\n",
        "        mirpoint.pt = (mimage.shape[1] - mirpoint.pt[0], mirpoint.pt[1])\n",
        "        if very_close(point.pt, mirpoint.pt):\n",
        "            mirpoint = mirpoint2\n",
        "            good.append(match2)\n",
        "        else:\n",
        "            good.append(match)\n",
        "        theta = angle_with_x_axis(point.pt, mirpoint.pt)\n",
        "        xc, yc = midpoint(point.pt, mirpoint.pt)\n",
        "        r = xc * np.cos(theta) + yc * np.sin(theta)\n",
        "        Mij = reisfeld(point.angle, mirpoint.angle, theta) * S(\n",
        "            point.size, mirpoint.size\n",
        "        )\n",
        "        houghr[i] = r\n",
        "        houghth[i] = theta\n",
        "        weights[i] = Mij\n",
        "        i += 1\n",
        "    # matches = sorted(matches, key = lambda x:x.distance)\n",
        "    good = sorted(good, key=lambda x: x.distance)\n",
        "\n",
        "    def draw(r, theta):\n",
        "        if np.pi / 4 < theta < 3 * (np.pi / 4):\n",
        "            for x in range(len(image.T)):\n",
        "                y = int((r - x * np.cos(theta)) / np.sin(theta))\n",
        "                if 0 <= y < len(image.T[x]):\n",
        "                    image[y][x] = 100\n",
        "        else:\n",
        "            for y in range(len(image)):\n",
        "                x = int((r - y * np.sin(theta)) / np.cos(theta))\n",
        "                if 0 <= x < len(image[y]):\n",
        "                    image[y][x] = 100\n",
        "\n",
        "    img3 = cv2.drawMatches(image, kp1, mimage, kp2, good[:15], None, flags=2)\n",
        "    # print(*(m.distance for m in matches[:10]))\n",
        "    # cv2.imshow('a',img3); cv2.waitKey(0);\n",
        "\n",
        "\n",
        "    draw(r, theta)\n",
        "    cv2.imshow('a', image); cv2.waitKey(0);\n",
        "\n",
        "\n",
        "def draw(image, r, theta):\n",
        "    if np.pi / 4 < theta < 3 * (np.pi / 4):\n",
        "        for x in range(len(image.T)):\n",
        "            y = int((r - x * np.cos(theta)) / np.sin(theta))\n",
        "            if 0 <= y < len(image.T[x]):\n",
        "                image[y][x] = 100\n",
        "    else:\n",
        "        for y in range(len(image)):\n",
        "            x = int((r - y * np.sin(theta)) / np.cos(theta))\n",
        "            if 0 <= x < len(image[y]):\n",
        "                image[y][x] = 100\n",
        "\n",
        "\n",
        "def main():\n",
        "    argc = len(sys.argv)\n",
        "    if not (argc == 2 or argc == 4 or argc == 5):\n",
        "        print(\"Usage: python3 detect.py IMAGE [r] [theta]\")\n",
        "        return\n",
        "    if argc == 2:\n",
        "        superm2(cv2.imread(sys.argv[1], 0))\n",
        "    elif argc == 4:\n",
        "        image = cv2.imread(sys.argv[1], 0)\n",
        "        draw(image, float(sys.argv[2]), float(sys.argv[3]))\n",
        "        cv2.imshow(\"a\", image)\n",
        "        cv2.waitKey(0)\n",
        "    else:\n",
        "        image = cv2.imread(sys.argv[1], 0)\n",
        "        draw(image, float(sys.argv[2]), float(sys.argv[3]))\n",
        "        cv2.imwrite(\"{}\".format(sys.argv[4]), image)\n",
        "\n",
        "\n",
        "if __name__ == \"__main__\":\n",
        "    main()"
      ],
      "metadata": {
        "colab": {
          "base_uri": "https://localhost:8080/"
        },
        "id": "kRxHc0sK234D",
        "outputId": "41da797e-33e9-4c84-e36e-57abce3a512f"
      },
      "execution_count": null,
      "outputs": [
        {
          "output_type": "stream",
          "name": "stdout",
          "text": [
            "Usage: python3 detect.py IMAGE [r] [theta]\n"
          ]
        }
      ]
    },
    {
      "cell_type": "code",
      "source": [
        "\"writing the above file as detect.py and saving it in the runtime.\""
      ],
      "metadata": {
        "colab": {
          "base_uri": "https://localhost:8080/",
          "height": 36
        },
        "id": "aoy9tKDg6b6C",
        "outputId": "eef9e9d1-351f-4952-ed96-0b030e3fac11"
      },
      "execution_count": null,
      "outputs": [
        {
          "output_type": "execute_result",
          "data": {
            "text/plain": [
              "'writing the above file as detect.py and saving it in the runtime.'"
            ],
            "application/vnd.google.colaboratory.intrinsic+json": {
              "type": "string"
            }
          },
          "metadata": {},
          "execution_count": 21
        }
      ]
    },
    {
      "cell_type": "code",
      "source": [
        "%%writefile detect.py\n",
        "import sys\n",
        "\n",
        "import cv2\n",
        "import matplotlib.pyplot as plt\n",
        "import numpy as np\n",
        "\n",
        "sift = cv2.SIFT_create()\n",
        "\n",
        "\n",
        "def very_close(a, b, tol=4.0):\n",
        "    \"\"\"Checks if the points a, b are within\n",
        "    tol distance of each other.\"\"\"\n",
        "    return np.sqrt((a[0] - b[0]) ** 2 + (a[1] - b[1]) ** 2) < tol\n",
        "\n",
        "\n",
        "def S(si, sj, sigma=1):\n",
        "    \"\"\"Computes the 'S' function mentioned in\n",
        "    the research paper.\"\"\"\n",
        "    q = (-abs(si - sj)) / (sigma * (si + sj))\n",
        "    return np.exp(q ** 2)\n",
        "\n",
        "\n",
        "def reisfeld(phi, phj, theta):\n",
        "    return 1 - np.cos(phi + phj - 2 * theta)\n",
        "\n",
        "\n",
        "def midpoint(i, j):\n",
        "    return (i[0] + j[0]) / 2, (i[1] + j[1]) / 2\n",
        "\n",
        "\n",
        "def angle_with_x_axis(i, j):\n",
        "    x, y = i[0] - j[0], i[1] - j[1]\n",
        "    if x == 0:\n",
        "        return np.pi / 2\n",
        "    angle = np.arctan(y / x)\n",
        "    if angle < 0:\n",
        "        angle += np.pi\n",
        "    return angle\n",
        "\n",
        "\n",
        "def superm2(image):\n",
        "    \"\"\"Performs the symmetry detection on image.\n",
        "   \"\"\"\n",
        "    mimage = np.fliplr(image)\n",
        "    kp1, des1 = sift.detectAndCompute(image, None)\n",
        "    kp2, des2 = sift.detectAndCompute(mimage, None)\n",
        "    for p, mp in zip(kp1, kp2):\n",
        "        p.angle = np.deg2rad(p.angle)\n",
        "        mp.angle = np.deg2rad(mp.angle)\n",
        "    bf = cv2.BFMatcher()\n",
        "    matches = bf.knnMatch(des1, des2, k=2)\n",
        "    houghr = np.zeros(len(matches))\n",
        "    houghth = np.zeros(len(matches))\n",
        "    weights = np.zeros(len(matches))\n",
        "    i = 0\n",
        "    good = []\n",
        "    for match, match2 in matches:\n",
        "        point = kp1[match.queryIdx]\n",
        "        mirpoint = kp2[match.trainIdx]\n",
        "        mirpoint2 = kp2[match2.trainIdx]\n",
        "        mirpoint2.angle = np.pi - mirpoint2.angle\n",
        "        mirpoint.angle = np.pi - mirpoint.angle\n",
        "        if mirpoint.angle < 0.0:\n",
        "            mirpoint.angle += 2 * np.pi\n",
        "        if mirpoint2.angle < 0.0:\n",
        "            mirpoint2.angle += 2 * np.pi\n",
        "        mirpoint.pt = (mimage.shape[1] - mirpoint.pt[0], mirpoint.pt[1])\n",
        "        if very_close(point.pt, mirpoint.pt):\n",
        "            mirpoint = mirpoint2\n",
        "            good.append(match2)\n",
        "        else:\n",
        "            good.append(match)\n",
        "        theta = angle_with_x_axis(point.pt, mirpoint.pt)\n",
        "        xc, yc = midpoint(point.pt, mirpoint.pt)\n",
        "        r = xc * np.cos(theta) + yc * np.sin(theta)\n",
        "        Mij = reisfeld(point.angle, mirpoint.angle, theta) * S(\n",
        "            point.size, mirpoint.size\n",
        "        )\n",
        "        houghr[i] = r\n",
        "        houghth[i] = theta\n",
        "        weights[i] = Mij\n",
        "        i += 1\n",
        "    # matches = sorted(matches, key = lambda x:x.distance)\n",
        "    good = sorted(good, key=lambda x: x.distance)\n",
        "\n",
        "    def draw(r, theta):\n",
        "        if np.pi / 4 < theta < 3 * (np.pi / 4):\n",
        "            for x in range(len(image.T)):\n",
        "                y = int((r - x * np.cos(theta)) / np.sin(theta))\n",
        "                if 0 <= y < len(image.T[x]):\n",
        "                    image[y][x] = 100\n",
        "        else:\n",
        "            for y in range(len(image)):\n",
        "                x = int((r - y * np.sin(theta)) / np.cos(theta))\n",
        "                if 0 <= x < len(image[y]):\n",
        "                    image[y][x] = 100\n",
        "\n",
        "    img3 = cv2.drawMatches(image, kp1, mimage, kp2, good[:15], None, flags=2)\n",
        "    # print(*(m.distance for m in matches[:10]))\n",
        "    # cv2.imshow('a',img3); cv2.waitKey(0);\n",
        "\n",
        "    draw(r, theta)\n",
        "    cv2.imshow('a', image); cv2.waitKey(0);\n",
        "\n",
        "\n",
        "def draw(image, r, theta):\n",
        "    if np.pi / 4 < theta < 3 * (np.pi / 4):\n",
        "        for x in range(len(image.T)):\n",
        "            y = int((r - x * np.cos(theta)) / np.sin(theta))\n",
        "            if 0 <= y < len(image.T[x]):\n",
        "                image[y][x] = 100\n",
        "    else:\n",
        "        for y in range(len(image)):\n",
        "            x = int((r - y * np.sin(theta)) / np.cos(theta))\n",
        "            if 0 <= x < len(image[y]):\n",
        "                image[y][x] = 100\n",
        "\n",
        "\n",
        "def main():\n",
        "    argc = len(sys.argv)\n",
        "    if not (argc == 2 or argc == 4 or argc == 5):\n",
        "        print(\"Usage: python3 detect.py IMAGE [r] [theta]\")\n",
        "        return\n",
        "    if argc == 2:\n",
        "        superm2(cv2.imread(sys.argv[1], 0))\n",
        "    elif argc == 4:\n",
        "        image = cv2.imread(sys.argv[1], 0)\n",
        "        draw(image, float(sys.argv[2]), float(sys.argv[3]))\n",
        "        cv2.imshow(\"a\", image)\n",
        "        cv2.waitKey(0)\n",
        "    else:\n",
        "        image = cv2.imread(sys.argv[1], 0)\n",
        "        draw(image, float(sys.argv[2]), float(sys.argv[3]))\n",
        "        cv2.imwrite(\"{}\".format(sys.argv[4]), image)\n",
        "\n",
        "\n",
        "if __name__ == \"__main__\":\n",
        "    main()"
      ],
      "metadata": {
        "colab": {
          "base_uri": "https://localhost:8080/"
        },
        "id": "5wiUfTZc4yQk",
        "outputId": "94553530-bbe1-4b64-93e2-70d881c0d002"
      },
      "execution_count": null,
      "outputs": [
        {
          "output_type": "stream",
          "name": "stdout",
          "text": [
            "Overwriting detect.py\n"
          ]
        }
      ]
    },
    {
      "cell_type": "markdown",
      "source": [],
      "metadata": {
        "id": "ZANAFmt37k2j"
      }
    },
    {
      "cell_type": "code",
      "source": [
        "\"use this ' !python3 detect.py input.png r theta output.png ' \""
      ],
      "metadata": {
        "colab": {
          "base_uri": "https://localhost:8080/",
          "height": 36
        },
        "id": "kj3K0J636aq8",
        "outputId": "18f0620c-a486-4a3a-e124-d7c84174b589"
      },
      "execution_count": null,
      "outputs": [
        {
          "output_type": "execute_result",
          "data": {
            "text/plain": [
              "\"use this ' !python3 detect.py input.png r theta output.png ' \""
            ],
            "application/vnd.google.colaboratory.intrinsic+json": {
              "type": "string"
            }
          },
          "metadata": {},
          "execution_count": 19
        }
      ]
    },
    {
      "cell_type": "code",
      "source": [
        "\"the above command will save the output as output .png file in the runtime with line of symmetry\""
      ],
      "metadata": {
        "colab": {
          "base_uri": "https://localhost:8080/",
          "height": 36
        },
        "id": "n0kZiFMr64VB",
        "outputId": "8adadcd2-832a-45ea-e6b2-1617376296c0"
      },
      "execution_count": null,
      "outputs": [
        {
          "output_type": "execute_result",
          "data": {
            "text/plain": [
              "'the above command will save the output as output .png file in the runtime with line of symmetry'"
            ],
            "application/vnd.google.colaboratory.intrinsic+json": {
              "type": "string"
            }
          },
          "metadata": {},
          "execution_count": 20
        }
      ]
    },
    {
      "cell_type": "code",
      "source": [
        "!python3 detect.py polylines.png  403.85 -0.34 output.png"
      ],
      "metadata": {
        "id": "oX7AIS5_4vqU"
      },
      "execution_count": null,
      "outputs": []
    }
  ]
}
